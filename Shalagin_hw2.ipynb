{
 "cells": [
  {
   "cell_type": "markdown",
   "metadata": {},
   "source": [
    "# Алгоритмы интеллектуальной обработки больших объемов данных\n",
    "## Домашнее задание №2: Линейные модели\n"
   ]
  },
  {
   "cell_type": "markdown",
   "metadata": {},
   "source": [
    "###### <hr\\>\n",
    "**Общая информация**\n",
    "\n",
    "**Срок сдачи:** 09 ноября 18:00 Сдача **очная** на онлайн занятии. <br\\>\n",
    "\n",
    "\n",
    "Используйте данный Ipython Notebook при оформлении домашнего задания.\n",
    "\n",
    "Присылать ДЗ необходимо в виде ссылки на свой github репозиторий на почту ml1.sphere@mail.ru с указанием темы в следующем формате:\n",
    "\n",
    "[ML0920, Задание 2] Фамилия Имя.\n",
    "\n",
    "\n",
    "\n",
    "**Штрафные баллы:**\n",
    "\n",
    "1. Невыполнение PEP8 -1 балл\n",
    "2. Отсутствие фамилии в имени скрипта (скрипт должен называться по аналогии со stroykova_hw2.ipynb) -1 балл\n",
    "3. Все строчки должны быть выполнены. Нужно, чтобы output команды можно было увидеть уже в git'е. В противном случае -1 балл\n",
    "4. При оформлении ДЗ нужно пользоваться данным файлом в качестве шаблона. Не нужно удалять и видоизменять написанный код и текст, если явно не указана такая возможность. В противном случае -1 балл\n",
    "<hr\\>"
   ]
  },
  {
   "cell_type": "code",
   "execution_count": 1,
   "metadata": {},
   "outputs": [],
   "source": [
    "import pandas as pd\n",
    "import numpy as np\n",
    "import matplotlib.pyplot as plt\n",
    "\n",
    "%matplotlib inline\n",
    "\n",
    "plt.style.use('ggplot')\n",
    "plt.rcParams['figure.figsize'] = (12,5)"
   ]
  },
  {
   "cell_type": "markdown",
   "metadata": {},
   "source": [
    "Здравствуйте, уважаемые студенты! \n",
    "\n",
    "В этом задании мы будем реализовать линейные модели. Необходимо реализовать линейную и логистическую регрессии с L2 регуляризацией"
   ]
  },
  {
   "cell_type": "markdown",
   "metadata": {},
   "source": [
    "# Теоретическое введение\n",
    "\n"
   ]
  },
  {
   "cell_type": "markdown",
   "metadata": {},
   "source": [
    "Линейная регрессия решает задачу регрессии и оптимизирует функцию потерь MSE \n",
    "\n",
    "$$L(w) =  \\frac{1}{N}\\left[\\sum_i (y_i - a_i) ^ 2 \\right], $$ где $y_i$ $-$ целевая функция,  $a_i = a(x_i) =  \\langle\\,x_i,w\\rangle ,$ $-$ предсказание алгоритма на объекте $x_i$, $w$ $-$ вектор весов (размерности $D$), $x_i$ $-$ вектор признаков (такой же размерности $D$).\n",
    "\n",
    "Не забываем, что здесь и далее  мы считаем, что в $x_i$ есть тождественный вектор единиц, ему соответствует вес $w_0$.\n"
   ]
  },
  {
   "cell_type": "markdown",
   "metadata": {},
   "source": [
    "Логистическая регрессия является линейным классификатором, который оптимизирует так называемый функционал log loss:"
   ]
  },
  {
   "cell_type": "markdown",
   "metadata": {},
   "source": [
    "$$L(w) = - \\frac{1}{N}\\left[\\sum_i y_i \\log a_i + ( 1 - y_i) \\log (1 - a_i) \\right],$$\n",
    "где  $y_i  \\in \\{0,1\\}$ $-$ метка класса, $a_i$ $-$ предсказание алгоритма на объекте $x_i$. Модель пытается предсказать апостериорую вероятность объекта принадлежать к классу \"1\":\n",
    "$$ p(y_i = 1 | x_i) = a(x_i) =  \\sigma( \\langle\\,x_i,w\\rangle ),$$\n",
    "$w$ $-$ вектор весов (размерности $D$), $x_i$ $-$ вектор признаков (такой же размерности $D$).\n",
    "\n",
    "Функция $\\sigma(x)$ $-$ нелинейная функция, пероводящее скалярное произведение объекта на веса в число $\\in (0,1)$ (мы же моделируем вероятность все-таки!)\n",
    "\n",
    "$$\\sigma(x) = \\frac{1}{1 + \\exp(-x)}$$\n",
    "\n",
    "Если внимательно посмотреть на функцию потерь, то можно заметить, что в зависимости от правильного ответа алгоритм штрафуется или функцией $-\\log a_i$, или функцией $-\\log (1 - a_i)$.\n",
    "\n"
   ]
  },
  {
   "cell_type": "markdown",
   "metadata": {},
   "source": [
    "Часто для решения проблем, которые так или иначе связаны с проблемой переобучения, в функционал качества добавляют слагаемое, которое называют ***регуляризацией***. Итоговый функционал для линейной регрессии тогда принимает вид:\n",
    "\n",
    "$$L(w) =  \\frac{1}{N}\\left[\\sum_i (y_i - a_i) ^ 2 \\right] + \\frac{1}{C}R(w) $$\n",
    "\n",
    "Для логистической: \n",
    "$$L(w) = - \\frac{1}{N}\\left[\\sum_i y_i \\log a_i + ( 1 - y_i) \\log (1 - a_i) \\right] +  \\frac{1}{C}R(w)$$\n",
    "\n",
    "Самое понятие регуляризации введено основателем ВМК академиком Тихоновым https://ru.wikipedia.org/wiki/Метод_регуляризации_Тихонова\n",
    "\n",
    "Идейно методика регуляризации заключается в следующем $-$ мы рассматриваем некорректно поставленную задачу (что это такое можно найти в интернете), для того чтобы сузить набор различных вариантов (лучшие из которых будут являться переобучением ) мы вводим дополнительные ограничения на множество искомых решений. На лекции Вы уже рассмотрели два варианта регуляризации.\n",
    "\n",
    "$L1$ регуляризация:\n",
    "$$R(w) = \\sum_{j=1}^{D}|w_j|$$\n",
    "$L2$ регуляризация:\n",
    "$$R(w) =  \\sum_{j=1}^{D}w_j^2$$\n",
    "\n",
    "С их помощью мы ограничиваем модель в  возможности выбора каких угодно весов минимизирующих наш лосс, модель уже не сможет подстроиться под данные как ей угодно. \n",
    "\n",
    "Вам нужно добавить соотвествущую Вашему варианту $L2$ регуляризацию.\n",
    "\n",
    "И так, мы поняли, какую функцию ошибки будем минимизировать, разобрались, как получить предсказания по объекту и обученным весам. Осталось разобраться, как получить оптимальные веса. Для этого нужно выбрать какой-то метод оптимизации.\n",
    "\n"
   ]
  },
  {
   "cell_type": "markdown",
   "metadata": {},
   "source": [
    "Градиентный спуск является самым популярным алгоритмом обучения линейных моделей. В этом задании Вам предложат реализовать стохастический градиентный спуск или  мини-батч градиентный спуск (мини-батч на русский язык довольно сложно перевести, многие переводят это как \"пакетный\", но мне не кажется этот перевод удачным). Далее нам потребуется определение **эпохи**.\n",
    "Эпохой в SGD и MB-GD называется один проход по **всем** объектам в обучающей выборки.\n",
    "* В SGD градиент расчитывается по одному случайному объекту. Сам алгоритм выглядит примерно так:\n",
    "        1) Перемешать выборку\n",
    "        2) Посчитать градиент функции потерь на одном объекте (далее один объект тоже будем называть батчем)\n",
    "        3) Сделать шаг спуска\n",
    "        4) Повторять 2) и 3) пока не пройдет максимальное число эпох.\n",
    "* В Mini Batch SGD - по подвыборке объектов. Сам алгоритм выглядит примерно так::\n",
    "        1) Перемешать выборку, выбрать размер мини-батча (от 1 до размера выборки)\n",
    "        2) Почитать градиент функции потерь по мини-батчу (не забыть поделить на  число объектов в мини-батче)\n",
    "        3) Сделать шаг спуска\n",
    "        4) Повторять 2) и 3) пока не пройдет максимальное число эпох.\n",
    "* Для отладки алгоритма реализуйте возможность  вывода средней ошибки на обучении модели по объектам (мини-батчам). После шага градиентного спуска посчитайте значение ошибки на объекте (или мини-батче), а затем усредните, например, по ста шагам. Если обучение проходит корректно, то мы должны увидеть, что каждые 100 шагов функция потерь уменьшается. \n",
    "* Правило останова - максимальное количество эпох\n",
    "    \n"
   ]
  },
  {
   "cell_type": "markdown",
   "metadata": {},
   "source": [
    "# Теоретические вопросы (2 балла)\n",
    "В этой части Вам будут предложены теоретичские вопросы и задачи по теме. Вы, конечно, можете списать их у своего товарища или найти решение в интернете, но учтите, что они обязательно войдут в теоретический коллоквиум. Лучше разобраться в теме сейчас и успешно ответить на коллоквиуме, чем списать, не разобравшись в материале, и быть терзаемым совестью. \n",
    "\n",
    "\n",
    "Формулы надо оформлять в формате **LaTeX**."
   ]
  },
  {
   "cell_type": "markdown",
   "metadata": {},
   "source": [
    "Задача 1. Градиент для линейной регрессии.\n",
    "* Выпишите формулу обновления весов для линейной регрессии с L2 регуляризацией для мини-батч градиентого спуска размера $n$:\n",
    "\n",
    "$$ w_{new} = w_{old} - ... $$\n",
    "\n",
    " Отнеситесь к этому пункту максимально серьезно, это Вам нужно будет реализовать в задании.\n",
    " \n",
    "Проанализруйте итоговую формулу градиента - как  интуитивно можно  описать, чему равен градиент?"
   ]
  },
  {
   "cell_type": "markdown",
   "metadata": {},
   "source": [
    "$\\displaystyle  \\begin{array}{{>{\\displaystyle}l}}\n",
    "Q^{*}_{r}( \\omega _{old}) =\\ \\frac{1}{n}\\sum ^{n}_{i=1}\\left( y^{( pred)}_{i} -y^{( train)}_{i}\\right)^{2} +\\frac{1}{C}\\sum ^{D}_{j=1} \\omega ^{2}_{j}\\\\\n",
    "\\nabla _{\\omega } Q^{*}_{r}( \\omega _{old}) =\\ \\frac{1}{n} \\nabla _{\\omega }\\left( \\| X^{\\{n\\}} \\omega -y^{\\{n\\}} \\ \\| ^{2}_{2}\\right) +\\frac{1}{C} \\nabla _{\\omega }\\left( \\omega ^{\\top } I\\omega \\right) =\\\\\n",
    "=\\ \\frac{1}{n} \\nabla _{\\omega }\\left( \\omega ^{\\top }_{old} X^{\\{n\\} \\top } X^{\\{n\\}} \\omega _{old} \\ -\\ 2\\omega ^{\\top }_{old} X^{\\{n\\} \\top } y^{\\{n\\}} +y^{\\{n\\} \\top } y^{\\{n\\}} \\ \\right) +\\ \\frac{2}{C} \\omega _{old} =\\\\\n",
    "=\\frac{2}{n}\\left( X^{\\{n\\} \\top } X^{\\{n\\}} \\omega _{old} \\ -\\ X^{\\{n\\} \\top } y^{\\{n\\}}\\right) \\ +\\ \\frac{2}{C} \\omega _{old}\\\\\n",
    "\\end{array}$"
   ]
  },
  {
   "cell_type": "markdown",
   "metadata": {},
   "source": [
    "$\\displaystyle  \\begin{array}{{>{\\displaystyle}l}}\n",
    "\\omega _{new} \\ =\\ \\omega _{old} -\\alpha \\nabla _{\\omega } Q^{*}_{r}( \\omega _{old}) =\\\\\n",
    "=\\ \\omega _{old}\\left( 1-\\frac{2\\alpha }{C}\\right) -\\frac{2\\alpha }{n} X^{\\{n\\} \\top }\\left[ X^{\\{n\\}} \\omega _{old} -y^{\\{n\\}}\\right] \\ =\\ \\\\\n",
    "=\\omega _{old}\\left( 1-\\frac{2\\alpha }{C}\\right) \\ +\\frac{2\\alpha }{n}\\sum ^{n}_{j=1}[ y_{j} -x_{j} \\omega _{old}] x_{j}\n",
    "\\end{array}$"
   ]
  },
  {
   "cell_type": "markdown",
   "metadata": {},
   "source": [
    "Задача 2. Градиент для логистической регрессии.\n",
    "* Выпишите формулу обновления весов для логистической регрессии с L2 регуляризацией  для мини-батч градиентого спуска размера $n$:\n",
    "\n",
    "$$ w_{new} = w_{old} - ... $$\n",
    "\n",
    " Отнеситесь к этому пункту максимально серьезно, это Вам нужно будет реализовать в задании.\n",
    " \n",
    "Проанализруйте итоговую формулу градиента - как  интуитивно можно  описать, чему равен градиент? Как соотносится этот градиент с градиентом, возникающий в задаче линейной регрессии?\n",
    "\n",
    "Подсказка: Вам градиент, которой получается если “в лоб” продифференцировать,  надо немного преобразовать.\n",
    "Надо подставить, что $1 - \\sigma(w,x) $ это  $1 - a(x_i)$, а  $-\\sigma(w,x)$ это $0 - a(x_i)$.  Тогда получится свести к одной красивой формуле с линейной регрессией, которую программировать будет намного проще."
   ]
  },
  {
   "cell_type": "markdown",
   "metadata": {},
   "source": [
    "$\\displaystyle  \\begin{array}{{>{\\displaystyle}l}}\n",
    "Используем\\ замену\\ :-\\langle \\omega ,x\\rangle \\ =\\ t\\\\\n",
    "d\\left[ \\ \\log\\left(\\frac{1}{1+\\exp( t)}\\right)\\right] \\ =\\ -\\frac{e^{t} dt}{e^{t} +1} =-\\frac{e^{-\\langle \\omega ,x\\rangle } d( -\\langle \\omega ,x\\rangle )}{1+e^{-\\langle \\omega ,x\\rangle }} =\\frac{e^{-\\langle \\omega ,x\\rangle } \\langle x,d\\omega \\rangle }{1+e^{-\\langle \\omega ,x\\rangle }}\\\\\n",
    "\\Rightarrow \\nabla _{\\omega } \\ =\\ \\frac{xe^{-\\langle \\omega ,x\\rangle }}{1+e^{-\\langle \\omega ,x\\rangle }}\\\\\n",
    "\\\\\n",
    "d\\left[ \\ \\log\\left( 1-\\frac{1}{1+\\exp( t)}\\right)\\right] \\ =\\ \\frac{dt}{e^{t} +1} =\\frac{-d( \\langle \\omega ,x\\rangle )}{1+e^{-\\langle \\omega ,x\\rangle }} =\\frac{\\langle -x,d\\omega \\rangle }{1+e^{-\\langle \\omega ,x\\rangle }}\\\\\n",
    "\\Rightarrow \\nabla _{\\omega } \\ =\\ \\frac{-x}{1+e^{-\\langle \\omega ,x\\rangle }}\\\\\n",
    "\\\\\n",
    "\\nabla _{\\omega } Q^{*}_{r}( \\omega _{old}) \\ =\\ -\\frac{1}{n}\\sum ^{n}_{i=1}\\left[ y_{i} \\nabla _{\\omega }\\log\\left(\\frac{1}{1+\\exp( -\\langle \\omega ,x\\rangle )}\\right) \\ +( 1-y_{i}) \\nabla _{\\omega }\\log\\left( 1-\\frac{1}{1+\\exp( -\\langle \\omega ,x\\rangle )}\\right)\\right] +\\frac{1}{C} \\nabla _{\\omega }\\sum ^{D}_{j=1} \\omega ^{2}_{j} \\ =\\\\\n",
    "\\ \\\\\n",
    "=-\\frac{1}{n}\\sum ^{n}_{i=1} \\ \\left[\\frac{y_{i} x_{i} e^{-\\langle \\omega ,x\\rangle }}{1+e^{-\\langle \\omega ,x\\rangle }} -\\frac{x_{i}( 1-y_{i})}{1+e^{-\\langle \\omega ,x\\rangle }}\\right] +\\frac{2}{C} \\omega _{old} \\ =\\ -\\frac{1}{n}\\sum ^{n}_{i=1} \\ x_{i}\\left[\\frac{y_{i} e^{-\\langle \\omega ,x\\rangle } -1+y_{i}}{1+e^{-\\langle \\omega ,x\\rangle }}\\right] +\\frac{2}{C} \\omega _{old} =-\\ \\frac{1}{n}\\sum ^{n}_{i=1} \\ x_{i}\\left[\\frac{y_{i}\\left( 1+e^{-\\langle \\omega ,x\\rangle }\\right) -1}{1+e^{-\\langle \\omega ,x\\rangle }}\\right] +\\frac{2}{C} \\omega _{old} =\\\\\n",
    "\\\\\n",
    "=-\\frac{1}{n}\\sum ^{n}_{i=1} \\ x_{i}[ y_{i} -\\sigma ( \\omega ,x_{i})] +\\frac{2}{C} \\omega _{old}\\\\\n",
    "\\\\\n",
    "\\omega _{new} \\ =\\ \\omega _{old} -\\alpha \\nabla _{\\omega } Q^{*}_{r}( \\omega _{old}) =\\\\\n",
    "=\\omega _{old}\\left( 1-\\frac{2\\alpha }{C}\\right) \\ +\\frac{\\alpha }{n}\\left[\\sum ^{n}_{i=1} \\ [ y_{i} -\\sigma ( \\omega ,x_{i})] x_{i}\\right]\\\\\n",
    "\\\\\n",
    "\\end{array}$"
   ]
  },
  {
   "cell_type": "markdown",
   "metadata": {},
   "source": [
    "Задача 3. Точное решение линейной регрессии\n",
    "\n",
    "На лекции было показано, что точное решение линейной регрессии имеет вид $w = (X^TX)^{-1}X^TY $. \n",
    "* Покажите, что это действительно является точкой минимума в случае, если матрица X имеет строк не меньше, чем столбцов и имеет полный ранг. Подсказка: посчитайте Гессиан и покажите, что в этом случае он положительно определен. \n",
    "* Выпишите точное решение для модели с $L2$ регуляризацией. Как L2 регуляризация помогает с точным решением где матрица X имеет линейно зависимые признаки?"
   ]
  },
  {
   "cell_type": "markdown",
   "metadata": {},
   "source": [
    "$\\displaystyle  \\begin{array}{{>{\\displaystyle}l}}\n",
    "Точное\\ решение\\ дает\\ нам\\ точку,\\ в\\ которой\\ градиент\\ равен\\ 0\\ ( по\\ построению) .\\ \\\\\n",
    "Таким\\ образом,\\ лишь\\ необходимо\\ показать,\\ что\\ в\\ этой\\ точке\\ выполнено\\ достаточное\\ условие\\ минимума.\\\\\n",
    "\\\\\n",
    "Достаточным\\ условием\\ минимума\\ для\\ критической\\ точки\\ является\\ положительная\\ определенность\\ диференциала\\ \\\\\n",
    "второго\\ порядка\\ заданной\\ функции\\ в\\ этой\\ точке.\\\\\n",
    "\\\\\n",
    "MSE=\\ \\frac{1}{N}\\sum ^{N}_{i=1}( \\langle x_{i} ,\\omega \\rangle -y_{i})^{2} \\ =\\frac{1}{N}\\sum ^{N}_{i=1} \\ \\| X \\omega -y \\ \\| ^{2}_{2} =\\frac{1}{N}\\left[ \\omega ^{\\top } X^{\\top } X \\omega -\\ 2\\omega ^{\\top } X^{\\top } y +y^{\\top } y\\right]\\\\\n",
    "Как\\ было\\ показано\\ ранее:\\\\\n",
    "d( MSE) \\ =\\langle \\ \\frac{2}{N} X^{\\top }( X \\omega \\ -y) ,\\ d\\omega \\rangle \\\\\n",
    "d^{2}( MSE) \\ =\\ d( d( MSE)) \\ =\\frac{2}{N} X^{\\top } X\\\\\n",
    "Таким\\ образом\\ Гессиан\\ равен\\ \\ \\frac{2}{N} X^{\\top } X\\\\\n",
    "Нетрудно\\ видеть,что\\ матрица\\ X^{\\top } X\\ -\\ это\\ матрица\\ Грамма,\\ исходной\\ системой\\ векторов\\ для\\ которой\\ являются\\ столбцы\\ матрицы\\ X.\\\\\n",
    "Как\\ известно,\\ матрица\\ Грама\\ любой\\ линейно\\ независимой\\ системы\\ векторов\\ является\\ положительно\\ определенной.\\ \\\\\n",
    "Наша\\ матрица\\ X\\ имеет\\ полный\\ ранг,\\ значит\\ ее\\ столбцы\\ гарантировано\\ линейно\\ независим\\\\\n",
    "Таким\\ образом,\\ X^{\\top } X\\ -\\ положительно\\ определенная\\ матрица.\\\\\n",
    "Следовательно,\\ Гессиан\\ \\frac{2}{N} X^{\\top } X\\ также\\ положительно\\ определен.\\ Значит\\ наша\\ точка\\ является\\ точкой\\ минимума.\\\\\n",
    "\\\\\n",
    "Приравняем\\ градиен\\ нулю:\\\\\n",
    "\\nabla _{\\omega } Q^{*}_{r}( \\omega _{old}) =\\ \\frac{2}{N} X^{\\top }\\left( X \\omega \\ -\\ X^{\\top } y\\right) \\ +\\ \\frac{2}{C} \\omega =0\\\\\n",
    "\\frac{1}{N} X^{\\top } X\\omega \\ -\\ \\frac{1}{N} X^{\\top } y\\ +\\ \\frac{1}{C} \\omega =0\\\\\n",
    "\\\\\n",
    "\\left(\\frac{1}{N} X^{\\top } X\\ +\\frac{I}{C} \\ \\right) \\omega =\\frac{1}{N} X^{\\top } y\\\\\n",
    "\\\\\n",
    "\\omega =\\frac{1}{N} \\ \\left(\\frac{1}{N} X^{\\top } X\\ +\\frac{I}{C} \\ \\right)^{-1} X^{\\top } y\\\\\n",
    "Регуляризация\\ добавит\\ новые\\ линейно\\ незаваисимые\\ значения\\ на\\ диагональ,\\ что\\ в\\ свою\\ очередь\\ уничтожит\\ \\\\\n",
    "линейную\\ зависимость\\ столбцов,что\\ в\\ свою\\ очередь\\ даст\\ нам\\ положительно\\ определенный\\ Гессиан\n",
    "\\end{array}$"
   ]
  },
  {
   "cell_type": "markdown",
   "metadata": {},
   "source": [
    "Задача 4.  Предсказываем вероятности.\n",
    "\n",
    "Когда говорят о логистической регрессии, произносят фразу, что она \"предсказывает вероятности положительного класса\". Давайте разберемся, что же за этим стоит. Посчитаем математическое ожидание функции потерь и проверим, что предсказание алгоритма, оптимизирующее это мат. ожидание, будет являться вероятностью положительного класса. \n",
    "\n",
    "И так, функция потерь на объекте $x_i$, который имеет метку $y_i \\in \\{0,1\\}$  для предсказания $a(x_i)$ равна:\n",
    "$$L(y_i, b) =-[y_i == 1] \\log a(x_i)  - [y_i == 0] \\log(1 - a(x_i)) $$\n",
    "\n",
    "Где $[]$ означает индикатор $-$ он равен единице, если значение внутри него истинно, иначе он равен нулю. Тогда мат. ожидание при условии конкретного $x_i$  по определение мат. ожидания дискретной случайной величины:\n",
    "$$E(L | x_i) = -p(y_i = 1 |x_i ) \\log a(x_i)  - p(y_i = 0 | x_i) \\log( 1 - a(x_i))$$\n",
    "* Докажите, что значение $a(x_i)$, минимизирующее данное мат. ожидание, в точности равно $p(y_i = 1 |x_i)$, то есть равно вероятности положительного класса.\n",
    "\n",
    "Подсказка: возможно, придется воспользоваться, что  $p(y_i = 1 | x_i) + p(y_i = 0 | x_i) = 1$"
   ]
  },
  {
   "cell_type": "markdown",
   "metadata": {},
   "source": [
    "$\\displaystyle  \\begin{array}{{>{\\displaystyle}l}}\n",
    "Обозначим\\ p_{i} \\ =\\ p( y_{i} =\\ 1|\\ x_{i})\\\\\n",
    "Очевидно,\\ что\\ p( y_{i} =\\ 0|\\ x_{i}) \\ =\\ 1-p_{i}\\\\\n",
    "\\\\\n",
    "Перепишем\\ матожидание\\ в\\ новых\\ обозначениях:\\\\\n",
    "E( L|x_{i}) \\ =\\ -p_{i}\\log( a_{i}) \\ -\\ ( 1-p_{i})\\log( 1-a_{i})\\\\\n",
    "\\\\\n",
    "\\frac{\\delta E}{\\delta a} \\ =\\ -\\frac{p_{i}}{a_{i}} +\\frac{1-p_{i}}{1-a_{i}} \\ =0\\\\\n",
    "p_{i}( 1-a_{i}) =a_{i}( 1-p_{i})\\\\\n",
    "p_{i} -a_{i} p_{i} =a_{i} -p_{i} a_{i}\\\\\n",
    "a_{i} =p_{i}\\\\\n",
    "\\\\\n",
    "Осталось\\ доказать,\\ что\\ найденная\\ точка\\ -\\ минимум.\\ Воспользуемся\\ тем,\\ что\\ a\\in ( 0,1) и\\ p\\in [ 0,1] :\\\\\n",
    "\\lim _{a\\rightarrow 1^{-}}\\left( -\\frac{p_{i}}{a_{i}} +\\frac{1-p_{i}}{1-a_{i}}\\right) =\\ +\\infty \\\\\n",
    "\\lim _{a\\rightarrow 0^{+}}\\left( -\\frac{p_{i}}{a_{i}} +\\frac{1-p_{i}}{1-a_{i}}\\right) =\\ -\\infty \\\\\n",
    "Таким\\ образом\\ по\\ знаку\\ производной\\ можно\\ сделать\\ вывод,\\ что\\ найденная\\ точка\\ -\\ минимум\\ на\\ отрезке\\ для\\ всех\\ p/\\\\\n",
    "\\\\\n",
    "\\Rightarrow a_{i} =p_{i} =p( y_{i} =\\ 1|\\ x_{i}) \\ минимизирует\\ данное\\ матожидание.\n",
    "\\end{array}$"
   ]
  },
  {
   "cell_type": "markdown",
   "metadata": {},
   "source": [
    "Задача 5.  Смысл регуляризации.\n",
    "\n",
    "Нужно ли в L1/L2 регуляризации использовать свободный член $w_0$ (который не умножается ни на какой признак)?\n",
    "\n",
    "Подсказка: подумайте, для чего мы вводим $w_0$"
   ]
  },
  {
   "cell_type": "markdown",
   "metadata": {},
   "source": [
    "Ответ:\n",
    "Нет, не нужно. Этот член показывает смещение гиперплоскости и не умножается ни на какой из признаков, таким образом у нас нет стремления накладывать какие-либо ограничения на его величину."
   ]
  },
  {
   "cell_type": "markdown",
   "metadata": {},
   "source": [
    "#  Реализация линейной модели (4 балла)"
   ]
  },
  {
   "cell_type": "markdown",
   "metadata": {},
   "source": [
    "## Зачем нужны батчи?\n"
   ]
  },
  {
   "cell_type": "markdown",
   "metadata": {},
   "source": [
    "Как Вы могли заметить из теоретического введения, что в случае SGD, что в случа mini-batch GD,  на каждой итерации обновление весов  происходит только по небольшой части данных (1 пример в случае SGD, batch примеров в случае mini-batch). То есть для каждой итерации нам *** не нужна вся выборка***. Мы можем просто итерироваться по выборке, беря батч нужного размера (далее 1 объект тоже будем называть батчом).\n",
    "\n",
    "Легко заметить, что в этом случае нам не нужно загружать все данные в оперативную память, достаточно просто считать батч с диска, обновить веса, считать диска другой батч и так далее. В целях упрощения домашней работы, прямо с диска  мы считывать не будем, будем работать с обычными numpy array. \n",
    "\n",
    "\n",
    "\n"
   ]
  },
  {
   "cell_type": "markdown",
   "metadata": {},
   "source": [
    "## Немножко про генераторы в Python\n",
    "\n"
   ]
  },
  {
   "cell_type": "markdown",
   "metadata": {},
   "source": [
    "Идея считывания данных кусками удачно ложится на так называемые ***генераторы*** из языка Python. В данной работе Вам предлагается не только разобраться с логистической регрессией, но  и познакомиться с таким важным элементом языка.  При желании Вы можете убрать весь код, связанный с генераторами, и реализовать логистическую регрессию и без них, ***штрафоваться это никак не будет***. Главное, чтобы сама модель была реализована правильно, и все пункты были выполнены. \n",
    "\n",
    "Подробнее можно почитать вот тут https://anandology.com/python-practice-book/iterators.html\n"
   ]
  },
  {
   "cell_type": "markdown",
   "metadata": {},
   "source": [
    "К генератору стоит относиться просто как к функции, которая порождает не один объект, а целую последовательность объектов. Новое значение из последовательности генерируется с помощью ключевого слова ***yield***. Ниже Вы можете насладиться  генератором чисел Фибоначчи."
   ]
  },
  {
   "cell_type": "code",
   "execution_count": 2,
   "metadata": {},
   "outputs": [],
   "source": [
    "def fib(max_iter=4):\n",
    "    a, b = 0, 1\n",
    "    iter_num = 0\n",
    "    while 1:\n",
    "        yield a\n",
    "        a, b = b, a + b\n",
    "        iter_num += 1\n",
    "        if iter_num == max_iter:\n",
    "            break"
   ]
  },
  {
   "cell_type": "markdown",
   "metadata": {},
   "source": [
    "Вот так можно сгенерировать последовательность Фибоначчи. \n",
    "\n",
    "Заметьте, что к генераторам можно применять некоторые стандартные функции из Python, например enumerate."
   ]
  },
  {
   "cell_type": "code",
   "execution_count": 3,
   "metadata": {},
   "outputs": [
    {
     "name": "stdout",
     "output_type": "stream",
     "text": [
      "Fib num: 0 fib values: 0\n",
      "Fib num: 1 fib values: 1\n",
      "Fib num: 2 fib values: 1\n",
      "Fib num: 3 fib values: 2\n"
     ]
    }
   ],
   "source": [
    "new_generator = fib()\n",
    "for j, fib_val in enumerate(new_generator):\n",
    "    print (\"Fib num: \" + str(j) + \" fib values: \" + str(fib_val))"
   ]
  },
  {
   "cell_type": "markdown",
   "metadata": {},
   "source": [
    "Пересоздавая объект, можно сколько угодно раз генерировать заново последовательность. "
   ]
  },
  {
   "cell_type": "code",
   "execution_count": 4,
   "metadata": {},
   "outputs": [
    {
     "name": "stdout",
     "output_type": "stream",
     "text": [
      "Fib num: 0 fib values: 0\n",
      "Fib num: 1 fib values: 1\n",
      "Fib num: 2 fib values: 1\n",
      "Fib num: 3 fib values: 2\n",
      "Fib num: 0 fib values: 0\n",
      "Fib num: 1 fib values: 1\n",
      "Fib num: 2 fib values: 1\n",
      "Fib num: 3 fib values: 2\n",
      "Fib num: 0 fib values: 0\n",
      "Fib num: 1 fib values: 1\n",
      "Fib num: 2 fib values: 1\n",
      "Fib num: 3 fib values: 2\n"
     ]
    }
   ],
   "source": [
    "for i in range(0, 3):\n",
    "    new_generator = fib()\n",
    "    for j, fib_val in enumerate(new_generator):\n",
    "        print (\"Fib num: \" + str(j) + \" fib values: \" + str(fib_val))"
   ]
  },
  {
   "cell_type": "markdown",
   "metadata": {},
   "source": [
    "А вот так уже нельзя."
   ]
  },
  {
   "cell_type": "code",
   "execution_count": 5,
   "metadata": {},
   "outputs": [
    {
     "name": "stdout",
     "output_type": "stream",
     "text": [
      "Fib num: 0 fib values: 0\n",
      "Fib num: 1 fib values: 1\n",
      "Fib num: 2 fib values: 1\n",
      "Fib num: 3 fib values: 2\n"
     ]
    }
   ],
   "source": [
    "new_generator = fib()\n",
    "for i in range(0, 3):\n",
    "    for j, fib_val in enumerate(new_generator):\n",
    "        print (\"Fib num: \" + str(j) + \" fib values: \" + str(fib_val))"
   ]
  },
  {
   "cell_type": "markdown",
   "metadata": {},
   "source": [
    "Концепция крайне удобная для обучения  моделей $-$ у Вас есть некий источник данных, который Вам выдает их кусками, и Вам совершенно все равно откуда он их берет. Под ним может скрывать как массив в оперативной памяти, как файл на жестком диске, так и SQL база данных. Вы сами данные никуда не сохраняете, оперативную память экономите."
   ]
  },
  {
   "cell_type": "markdown",
   "metadata": {},
   "source": [
    "Если Вам понравилась идея с генераторами, то Вы можете реализовать свой, используя прототип batch_generator. В нем Вам нужно выдавать батчи признаков и ответов для каждой новой итерации спуска. Если не понравилась идея, то можете реализовывать SGD или mini-batch GD без генераторов."
   ]
  },
  {
   "cell_type": "code",
   "execution_count": 6,
   "metadata": {},
   "outputs": [],
   "source": [
    "import numpy as np\n",
    "import sklearn as sk\n",
    "import matplotlib.pyplot as plt"
   ]
  },
  {
   "cell_type": "code",
   "execution_count": 7,
   "metadata": {},
   "outputs": [],
   "source": [
    "def batch_generator(X, y, shuffle=True, batch_size=1):\n",
    "    \"\"\"\n",
    "    Гератор новых батчей для обучения\n",
    "    X          - матрица объекты-признаки\n",
    "    y_batch    - вектор ответов\n",
    "    shuffle    - нужно ли случайно перемешивать выборку\n",
    "    batch_size - размер батча ( 1 это SGD, > 1 mini-batch GD)\n",
    "    Генерирует подвыборку для итерации спуска (X_batch, y_batch)\n",
    "    \"\"\"\n",
    "    \n",
    "    if shuffle:\n",
    "        X_shuffled, y_shuffled = sk.utils.shuffle(X,y)        \n",
    "        for i in range(0, len(y), batch_size):\n",
    "            X_batch = X_shuffled[i:i+batch_size]\n",
    "            y_batch = y_shuffled[i:i+batch_size]\n",
    "            yield (X_batch, y_batch)\n",
    "    else:\n",
    "        for i in range(0, len(y), batch_size):\n",
    "            yield (X[i:i+batch_size], y[i:i+batch_size])\n",
    "\n",
    "# Теперь можно сделать генератор по данным ()\n",
    "#  my_batch_generator = batch_generator(X, y, shuffle=True, batch_size=1):"
   ]
  },
  {
   "cell_type": "code",
   "execution_count": 8,
   "metadata": {},
   "outputs": [],
   "source": [
    "#%%pycodestyle\n",
    "\n",
    "def sigmoid(x):\n",
    "    \"\"\"\n",
    "    Вычисляем значение сигмоида.\n",
    "    X - выход линейной модели\n",
    "    \"\"\"\n",
    "    \n",
    "    sigm_value_x = 1/(1+np.exp(-x))\n",
    "    return sigm_value_x\n",
    "\n",
    "\n",
    "from sklearn.base import BaseEstimator, ClassifierMixin\n",
    "\n",
    "class MySGDClassifier(BaseEstimator, ClassifierMixin):\n",
    "    \n",
    "    def __init__(self, batch_generator, C=1, alpha=0.01, max_epoch=10, model_type='lin_reg', batch_size=10,threshold = 0.5):\n",
    "        \"\"\"\n",
    "        batch_generator -- функция генератор, которой будем создавать батчи\n",
    "        C - коэф. регуляризации\n",
    "        alpha - скорость спуска\n",
    "        max_epoch - максимальное количество эпох\n",
    "        model_type - тим модели, lin_reg или log_reg\n",
    "        \"\"\"\n",
    "        \n",
    "        self.C = C\n",
    "        self.alpha = alpha\n",
    "        self.max_epoch = max_epoch\n",
    "        self.batch_generator = batch_generator\n",
    "        self.errors_log = {'iter' : [], 'loss' : []}  \n",
    "        self.model_type = model_type\n",
    "        \n",
    "        self.batch_size = batch_size\n",
    "        self.threshold = threshold\n",
    "        \n",
    "    def calc_loss(self, X_batch, y_batch):\n",
    "        \"\"\"\n",
    "        Считаем функцию потерь по батчу \n",
    "        X_batch - матрица объекты-признаки по батчу\n",
    "        y_batch - вектор ответов по батчу\n",
    "        Не забудте тип модели (линейная или логистическая регрессия)!\n",
    "        \"\"\"\n",
    "        N = len(y_batch)\n",
    "        if self.model_type == 'lin_reg':\n",
    "            loss= (1/N) * np.sum((y_batch - np.dot(X_batch, self.weights))**2) + (1/self.C) * np.sum(self.weights **2)\n",
    "        \n",
    "        if self.model_type == 'log_reg':\n",
    "            a = sigmoid(np.dot(X_batch, self.weights))\n",
    "            loss = (-1/N) * np.sum(y_batch * np.log(a) + (1-y_batch) * np.log(1-a)) + (1/self.C) * np.sum(self.weights **2)\n",
    "        \n",
    "        return loss\n",
    "    \n",
    "    def calc_loss_grad(self, X_batch, y_batch):\n",
    "        \"\"\"\n",
    "        Считаем  градиент функции потерь по батчу (то что Вы вывели в задании 1)\n",
    "        X_batch - матрица объекты-признаки по батчу\n",
    "        y_batch - вектор ответов по батчу\n",
    "        Не забудте тип модели (линейная или логистическая регрессия)!\n",
    "        \"\"\"\n",
    "        N = len(y_batch)\n",
    "        if self.model_type == 'lin_reg':\n",
    "            loss_grad = (2/N) * np.dot(np.transpose(X_batch), np.dot(X_batch, self.weights) - y_batch) + (2/self.C)*self.weights\n",
    "        \n",
    "        if self.model_type == 'log_reg':\n",
    "            a = sigmoid(np.dot(X_batch, self.weights))\n",
    "            loss_grad = (-1/N) * np.dot(y_batch-a, X_batch) + (2/self.C)*self.weights\n",
    "        \n",
    "        return loss_grad\n",
    "    \n",
    "    def update_weights(self, new_grad):\n",
    "        \"\"\"\n",
    "        Обновляем вектор весов\n",
    "        new_grad - градиент по батчу\n",
    "        \"\"\"\n",
    "        self.weights = self.weights- self.alpha*new_grad\n",
    "        pass\n",
    "    \n",
    "    def fit(self, X, y):\n",
    "        '''\n",
    "        Обучение модели\n",
    "        X - матрица объекты-признаки\n",
    "        y - вектор ответов\n",
    "        '''\n",
    "        #print('fit start')\n",
    "        X = np.insert(X, 0, np.ones(X.shape[0]), axis=1) #добавляем признак-единицу для смещения\n",
    "        # Нужно инициализровать случайно веса\n",
    "        self.weights = np.random.normal(0, 1, X.shape[1])\n",
    "        for n in range(0, self.max_epoch):\n",
    "            new_epoch_generator = self.batch_generator(X, y, batch_size=self.batch_size)\n",
    "            for batch_num, new_batch in enumerate(new_epoch_generator):\n",
    "                X_batch = new_batch[0]\n",
    "                y_batch = new_batch[1]\n",
    "                batch_grad = self.calc_loss_grad(X_batch, y_batch)\n",
    "                self.update_weights(batch_grad)\n",
    "                # Подумайте в каком месте стоит посчитать ошибку для отладки модели\n",
    "                # До градиентного шага или после\n",
    "                batch_loss = self.calc_loss(X_batch, y_batch)\n",
    "                self.errors_log['iter'].append(batch_num)\n",
    "                self.errors_log['loss'].append(batch_loss)\n",
    "        #print('fit finish')        \n",
    "        return self\n",
    "        \n",
    "    def predict(self, X):\n",
    "        '''\n",
    "        Предсказание класса\n",
    "        X - матрица объекты-признаки\n",
    "        Не забудте тип модели (линейная или логистическая регрессия)!\n",
    "        '''\n",
    "        X = np.insert(X, 0, np.ones(X.shape[0]), axis=1) #добавляем признак-единицу для смещения\n",
    "        if self.model_type == 'lin_reg':\n",
    "            y_hat = np.dot(X, self.weights) \n",
    "        \n",
    "        if self.model_type == 'log_reg':\n",
    "            a = sigmoid(np.dot(X, self.weights))\n",
    "            y_hat = (a>self.threshold).astype(int)\n",
    "        # Желательно здесь использовать матричные операции между X и весами, например, numpy.dot\n",
    "        #if (np.any(np.isnan(y_hat))):\n",
    "            #print('NAN')\n",
    "        #if not np.all(np.isfinite(y_hat)):\n",
    "            #print('inf')\n",
    "        return y_hat"
   ]
  },
  {
   "cell_type": "markdown",
   "metadata": {},
   "source": [
    "Запустите обе регрессии на синтетических данных. \n",
    "\n",
    "\n",
    "Выведите полученные веса и нарисуйте разделяющую границу между классами (используйте только первых два веса для первых двух признаков X[:,0], X[:,1] для отображения в 2d пространство ).  "
   ]
  },
  {
   "cell_type": "code",
   "execution_count": 9,
   "metadata": {},
   "outputs": [],
   "source": [
    "def plot_decision_boundary(clf):\n",
    "    x = np.linspace(-4,8, 50)\n",
    "    if clf.model_type == 'lin_reg':\n",
    "        clr = 'r'\n",
    "    if clf.model_type == 'log_reg':\n",
    "        clr = 'b'\n",
    "    plt.plot(x, (-x*clf.weights[1] - clf.weights[0])/clf.weights[2], c = clr)   \n",
    "    plt.ylim(-5, 5)\n",
    "    plt.xlim(-4,4)\n",
    "    pass"
   ]
  },
  {
   "cell_type": "code",
   "execution_count": 10,
   "metadata": {
    "scrolled": true
   },
   "outputs": [
    {
     "data": {
      "text/plain": [
       "<matplotlib.collections.PathCollection at 0x1d0212a0d30>"
      ]
     },
     "execution_count": 10,
     "metadata": {},
     "output_type": "execute_result"
    },
    {
     "data": {
      "image/png": "[encoded data removed]",
      "text/plain": [
       "<Figure size 864x360 with 1 Axes>"
      ]
     },
     "metadata": {},
     "output_type": "display_data"
    }
   ],
   "source": [
    "np.random.seed(0)\n",
    "\n",
    "C1 = np.array([[0., -0.8], [1.5, 0.8]])\n",
    "C2 = np.array([[1., -0.7], [2., 0.7]])\n",
    "gauss1 = np.dot(np.random.randn(200, 2) + np.array([5, 3]), C1)\n",
    "gauss2 = np.dot(np.random.randn(200, 2) + np.array([1.5, 0]), C2)\n",
    "\n",
    "X = np.vstack([gauss1, gauss2])\n",
    "y = np.r_[np.ones(200), np.zeros(200)]\n",
    "\n",
    "# plot_decision_boundary(your_model)\n",
    "\n",
    "plt.scatter(X[:,0], X[:,1], c=y)\n",
    "#print(X[:,0], X[:,1])\n",
    "#print(y)"
   ]
  },
  {
   "cell_type": "code",
   "execution_count": 11,
   "metadata": {},
   "outputs": [],
   "source": [
    "#Сначала применим Z-нормализацию к данным\n",
    "mean = np.mean(X, axis=0)\n",
    "std = np.std(X, axis=0)  \n",
    "X = (X - mean) / std"
   ]
  },
  {
   "cell_type": "code",
   "execution_count": 12,
   "metadata": {},
   "outputs": [
    {
     "data": {
      "image/png": "[encoded data removed]",
      "text/plain": [
       "<Figure size 864x360 with 1 Axes>"
      ]
     },
     "metadata": {},
     "output_type": "display_data"
    }
   ],
   "source": [
    "clf_lin = MySGDClassifier(batch_generator = batch_generator , C=1, alpha=0.01, max_epoch=10, model_type='lin_reg')\n",
    "clf_log = MySGDClassifier(batch_generator= batch_generator, C=1, alpha=0.01, max_epoch=10, model_type='log_reg')\n",
    "clf_lin.fit(X, y)\n",
    "clf_log.fit(X, y)\n",
    "plot_decision_boundary(clf_lin)\n",
    "plot_decision_boundary(clf_log)\n",
    "plt.scatter(X[:,0], X[:,1], c=y, s=7)\n",
    "plt.show()"
   ]
  },
  {
   "cell_type": "markdown",
   "metadata": {},
   "source": [
    "Далее будем анализировать Ваш алгоритм. \n",
    "Для этих заданий используйте датасет ниже."
   ]
  },
  {
   "cell_type": "code",
   "execution_count": 13,
   "metadata": {},
   "outputs": [],
   "source": [
    "from sklearn.datasets import make_classification"
   ]
  },
  {
   "cell_type": "code",
   "execution_count": 14,
   "metadata": {},
   "outputs": [],
   "source": [
    "X, y = make_classification(n_samples=100000, n_features=10, \n",
    "                           n_informative=4, n_redundant=0, \n",
    "                           random_state=123, class_sep=1.0,\n",
    "                           n_clusters_per_class=1)"
   ]
  },
  {
   "cell_type": "markdown",
   "metadata": {},
   "source": [
    "Покажите сходимости обеих регрессией на этом датасете: изобразите график  функции потерь, усредненной по $N$ шагам градиентого спуска, для разных `alpha` (размеров шага). Разные `alpha` расположите на одном графике. \n",
    "\n",
    "$N$ можно брать 10, 50, 100 и т.д. "
   ]
  },
  {
   "cell_type": "code",
   "execution_count": 15,
   "metadata": {},
   "outputs": [],
   "source": [
    "N = 50\n",
    "def graf(model):\n",
    "    for alpha in [0.1, 0.05, 0.01, 0.005, 0.001]:\n",
    "        clf = MySGDClassifier(batch_generator, max_epoch=8, model_type=model, batch_size=10, alpha=alpha)\n",
    "        clf.fit(X,y)\n",
    "        loss = np.asarray(clf.errors_log['loss'])\n",
    "        plt.plot([loss[i:i+N].mean() for i in range(loss.shape[0] // N +1)], label = 'alpha={}'.format(alpha))\n",
    "    plt.legend()\n",
    "        "
   ]
  },
  {
   "cell_type": "code",
   "execution_count": 16,
   "metadata": {},
   "outputs": [
    {
     "data": {
      "image/png": "[encoded data removed]",
      "text/plain": [
       "<Figure size 864x360 with 1 Axes>"
      ]
     },
     "metadata": {},
     "output_type": "display_data"
    }
   ],
   "source": [
    "graf('lin_reg')"
   ]
  },
  {
   "cell_type": "code",
   "execution_count": 17,
   "metadata": {
    "scrolled": true
   },
   "outputs": [
    {
     "data": {
      "image/png": "[encoded data removed]",
      "text/plain": [
       "<Figure size 864x360 with 1 Axes>"
      ]
     },
     "metadata": {},
     "output_type": "display_data"
    }
   ],
   "source": [
    "graf(\"log_reg\")"
   ]
  },
  {
   "cell_type": "markdown",
   "metadata": {},
   "source": [
    "Что Вы можете сказать про сходимость метода при различных `alpha`? Какое значение стоит выбирать для лучшей сходимости?"
   ]
  },
  {
   "cell_type": "markdown",
   "metadata": {},
   "source": [
    "Изобразите график среднего значения весов для обеих регрессий в зависимости от коеф. регуляризации С из `np.logspace(3, -3, 10)` "
   ]
  },
  {
   "cell_type": "code",
   "execution_count": 18,
   "metadata": {},
   "outputs": [
    {
     "name": "stderr",
     "output_type": "stream",
     "text": [
      "C:\\python\\anaconda3\\lib\\site-packages\\numpy\\core\\fromnumeric.py:90: RuntimeWarning: overflow encountered in reduce\n",
      "  return ufunc.reduce(obj, axis, dtype, out, **passkwargs)\n",
      "<ipython-input-8-30422217b056>:45: RuntimeWarning: overflow encountered in double_scalars\n",
      "  loss= (1/N) * np.sum((y_batch - np.dot(X_batch, self.weights))**2) + (1/self.C) * np.sum(self.weights **2)\n",
      "<ipython-input-8-30422217b056>:45: RuntimeWarning: overflow encountered in square\n",
      "  loss= (1/N) * np.sum((y_batch - np.dot(X_batch, self.weights))**2) + (1/self.C) * np.sum(self.weights **2)\n",
      "<ipython-input-8-30422217b056>:62: RuntimeWarning: overflow encountered in multiply\n",
      "  loss_grad = (2/N) * np.dot(np.transpose(X_batch), np.dot(X_batch, self.weights) - y_batch) + (2/self.C)*self.weights\n",
      "<ipython-input-8-30422217b056>:49: RuntimeWarning: divide by zero encountered in log\n",
      "  loss = (-1/N) * np.sum(y_batch * np.log(a) + (1-y_batch) * np.log(1-a)) + (1/self.C) * np.sum(self.weights **2)\n",
      "<ipython-input-8-30422217b056>:49: RuntimeWarning: invalid value encountered in multiply\n",
      "  loss = (-1/N) * np.sum(y_batch * np.log(a) + (1-y_batch) * np.log(1-a)) + (1/self.C) * np.sum(self.weights **2)\n",
      "<ipython-input-8-30422217b056>:9: RuntimeWarning: overflow encountered in exp\n",
      "  sigm_value_x = 1/(1+np.exp(-x))\n",
      "<ipython-input-8-30422217b056>:49: RuntimeWarning: overflow encountered in double_scalars\n",
      "  loss = (-1/N) * np.sum(y_batch * np.log(a) + (1-y_batch) * np.log(1-a)) + (1/self.C) * np.sum(self.weights **2)\n",
      "<ipython-input-8-30422217b056>:49: RuntimeWarning: overflow encountered in square\n",
      "  loss = (-1/N) * np.sum(y_batch * np.log(a) + (1-y_batch) * np.log(1-a)) + (1/self.C) * np.sum(self.weights **2)\n",
      "<ipython-input-8-30422217b056>:66: RuntimeWarning: overflow encountered in multiply\n",
      "  loss_grad = (-1/N) * np.dot(y_batch-a, X_batch) + (2/self.C)*self.weights\n"
     ]
    },
    {
     "data": {
      "text/plain": [
       "<matplotlib.legend.Legend at 0x1d021c78ac0>"
      ]
     },
     "execution_count": 18,
     "metadata": {},
     "output_type": "execute_result"
    },
    {
     "data": {
      "image/png": "[encoded data removed]",
      "text/plain": [
       "<Figure size 864x360 with 1 Axes>"
      ]
     },
     "metadata": {},
     "output_type": "display_data"
    }
   ],
   "source": [
    "lin = []\n",
    "log = []\n",
    "x_axis = []\n",
    "for C in np.logspace(3,-3,10):\n",
    "    clf_lin = MySGDClassifier(batch_generator, C = C,  alpha= 0.01, max_epoch=1, model_type='lin_reg')\n",
    "    clf_log = MySGDClassifier(batch_generator, C = C,  alpha= 0.01, max_epoch=1, model_type='log_reg')\n",
    "    clf_lin.fit(X, y)\n",
    "    clf_log.fit(X, y) \n",
    "    x_axis.append(C)\n",
    "    lin.append(clf_lin.weights.mean())\n",
    "    log.append(clf_log.weights.mean())\n",
    "\n",
    "#print(x_axis)\n",
    "#print(log)\n",
    "#print(lin)\n",
    "#plt.plot(x_axis, log, label = 'log reg')\n",
    "#plt.plot(x_axis, lin, label = 'lin, reg')\n",
    "plt.plot(range(len(x_axis)), log, label = 'log reg')\n",
    "plt.plot(range(len(x_axis)), lin, label = 'lin, reg')\n",
    "plt.legend()"
   ]
  },
  {
   "cell_type": "markdown",
   "metadata": {},
   "source": [
    "Довольны ли Вы, насколько сильно уменьшились Ваши веса? "
   ]
  },
  {
   "cell_type": "markdown",
   "metadata": {},
   "source": [
    "# Боевое применение (4  балла)\n",
    "\n",
    "**Защита данной части возможна только при преодолении в проекте бейзлайна Handmade baseline.**"
   ]
  },
  {
   "cell_type": "markdown",
   "metadata": {},
   "source": [
    "Давайте применим модель на итоговом проекте! Датасет сделаем точно таким же образом, как было показано в project_overview.ipynb\n",
    "\n",
    "Применим обе регрессии, подберем для них параметры и сравним качество. Может быть Вы еще одновременно с решением домашней работы подрастете на лидерборде!"
   ]
  },
  {
   "cell_type": "code",
   "execution_count": 19,
   "metadata": {
    "scrolled": true
   },
   "outputs": [
    {
     "name": "stdout",
     "output_type": "stream",
     "text": [
      "28026\n"
     ]
    }
   ],
   "source": [
    "doc_to_title = {}\n",
    "with open('docs_titles.tsv',  encoding='utf-8', newline='') as f:\n",
    "    for num_line, line in enumerate(f):\n",
    "        if num_line == 0:\n",
    "            continue\n",
    "        data = line.strip().split('\\t', 1)\n",
    "        doc_id = int(data[0])\n",
    "        if len(data) == 1:\n",
    "            title = ''\n",
    "        else:\n",
    "            title = data[1]\n",
    "        doc_to_title[doc_id] = title\n",
    "print (len(doc_to_title))\n"
   ]
  },
  {
   "cell_type": "code",
   "execution_count": 20,
   "metadata": {},
   "outputs": [],
   "source": [
    "import pandas as pd\n",
    "train_data = pd.read_csv('train_groups.csv')\n",
    "traingroups_titledata = {}\n",
    "for i in range(len(train_data)):\n",
    "    new_doc = train_data.iloc[i]\n",
    "    doc_group = new_doc['group_id']\n",
    "    doc_id = new_doc['doc_id']\n",
    "    target = new_doc['target']\n",
    "    title = doc_to_title[doc_id]\n",
    "    if doc_group not in traingroups_titledata:\n",
    "        traingroups_titledata[doc_group] = []\n",
    "    traingroups_titledata[doc_group].append((doc_id, title, target))"
   ]
  },
  {
   "cell_type": "code",
   "execution_count": 21,
   "metadata": {},
   "outputs": [
    {
     "name": "stdout",
     "output_type": "stream",
     "text": [
      "(11690, 15) (11690,) (11690,)\n"
     ]
    }
   ],
   "source": [
    "import numpy as np\n",
    "y_train = []\n",
    "X_train = []\n",
    "groups_train = []\n",
    "for new_group in traingroups_titledata:\n",
    "    docs = traingroups_titledata[new_group]\n",
    "    for k, (doc_id, title, target_id) in enumerate(docs):\n",
    "        y_train.append(target_id)\n",
    "        groups_train.append(new_group)\n",
    "        all_dist = []\n",
    "        words = set(title.strip().split())\n",
    "        for j in range(0, len(docs)):\n",
    "            if k == j:\n",
    "                continue\n",
    "            doc_id_j, title_j, target_j = docs[j]\n",
    "            words_j = set(title_j.strip().split())\n",
    "            all_dist.append(len(words.intersection(words_j)))\n",
    "        X_train.append(sorted(all_dist, reverse=True)[0:15]    )\n",
    "X_train = np.array(X_train)\n",
    "y_train = np.array(y_train)\n",
    "groups_train = np.array(groups_train)\n",
    "print (X_train.shape, y_train.shape, groups_train.shape)"
   ]
  },
  {
   "cell_type": "markdown",
   "metadata": {},
   "source": [
    "Подберите размер батча для обучения. Линейная модель не должна учиться дольше нескольких минут. \n",
    "\n",
    "Не забывайте использовать скейлер!"
   ]
  },
  {
   "cell_type": "code",
   "execution_count": 22,
   "metadata": {},
   "outputs": [],
   "source": [
    "from sklearn.metrics import f1_score\n",
    "from sklearn.linear_model import LinearRegression\n",
    "from sklearn.preprocessing import StandardScaler"
   ]
  },
  {
   "cell_type": "code",
   "execution_count": 23,
   "metadata": {},
   "outputs": [],
   "source": [
    "scaler = StandardScaler()\n",
    "scaler.fit(X_train)\n",
    "X_train = scaler.transform(X_train)"
   ]
  },
  {
   "cell_type": "code",
   "execution_count": 26,
   "metadata": {},
   "outputs": [],
   "source": [
    "from sklearn.model_selection import cross_val_score\n",
    "\n",
    "best_score = 0\n",
    "\n",
    "best_c = 2.154\n",
    "best_alpha = 0.0301 \n",
    "best_max_epoch = 15\n",
    "best_model_type = 'log_reg'\n",
    "best_threshold = 0.44999999999999973\n",
    "best_batch_size = 15"
   ]
  },
  {
   "cell_type": "code",
   "execution_count": 27,
   "metadata": {},
   "outputs": [
    {
     "name": "stderr",
     "output_type": "stream",
     "text": [
      "<ipython-input-8-30422217b056>:49: RuntimeWarning: divide by zero encountered in log\n",
      "  loss = (-1/N) * np.sum(y_batch * np.log(a) + (1-y_batch) * np.log(1-a)) + (1/self.C) * np.sum(self.weights **2)\n",
      "<ipython-input-8-30422217b056>:49: RuntimeWarning: invalid value encountered in multiply\n",
      "  loss = (-1/N) * np.sum(y_batch * np.log(a) + (1-y_batch) * np.log(1-a)) + (1/self.C) * np.sum(self.weights **2)\n"
     ]
    }
   ],
   "source": [
    "for batch_size in range(5, 50, 5):\n",
    "    clf = MySGDClassifier(batch_generator,  C = best_c, alpha=best_alpha, max_epoch =best_max_epoch, model_type='log_reg', threshold = best_threshold,  batch_size = batch_size)  \n",
    "    score = np.mean(cross_val_score(clf, X_train, y_train, scoring = 'f1'))\n",
    "    if score > best_score:\n",
    "        best_score = score\n",
    "        best_batch_size = batch_size"
   ]
  },
  {
   "cell_type": "markdown",
   "metadata": {},
   "source": [
    "Разбейте данные на обучение и валидацию. Подберите параметры C, alpha, max_epoch, model_type на валидации (Вы же помните, как правильно в этой задаче делать валидацию?)"
   ]
  },
  {
   "cell_type": "code",
   "execution_count": 31,
   "metadata": {},
   "outputs": [
    {
     "name": "stderr",
     "output_type": "stream",
     "text": [
      "<ipython-input-8-30422217b056>:49: RuntimeWarning: divide by zero encountered in log\n",
      "  loss = (-1/N) * np.sum(y_batch * np.log(a) + (1-y_batch) * np.log(1-a)) + (1/self.C) * np.sum(self.weights **2)\n",
      "<ipython-input-8-30422217b056>:49: RuntimeWarning: divide by zero encountered in log\n",
      "  loss = (-1/N) * np.sum(y_batch * np.log(a) + (1-y_batch) * np.log(1-a)) + (1/self.C) * np.sum(self.weights **2)\n"
     ]
    }
   ],
   "source": [
    "for C in np.arange(1.0, 10.0, 0.1):\n",
    "    clf = MySGDClassifier(batch_generator,  C = C, alpha=best_alpha, max_epoch =best_max_epoch, model_type='log_reg', threshold = best_threshold,  batch_size = best_batch_size)  \n",
    "    score = np.mean(cross_val_score(clf, X_train, y_train, scoring = 'f1'))\n",
    "    if score > best_score:\n",
    "        best_score = score\n",
    "        best_c = C"
   ]
  },
  {
   "cell_type": "code",
   "execution_count": 33,
   "metadata": {},
   "outputs": [
    {
     "name": "stderr",
     "output_type": "stream",
     "text": [
      "<ipython-input-8-30422217b056>:49: RuntimeWarning: divide by zero encountered in log\n",
      "  loss = (-1/N) * np.sum(y_batch * np.log(a) + (1-y_batch) * np.log(1-a)) + (1/self.C) * np.sum(self.weights **2)\n",
      "<ipython-input-8-30422217b056>:49: RuntimeWarning: divide by zero encountered in log\n",
      "  loss = (-1/N) * np.sum(y_batch * np.log(a) + (1-y_batch) * np.log(1-a)) + (1/self.C) * np.sum(self.weights **2)\n",
      "<ipython-input-8-30422217b056>:49: RuntimeWarning: invalid value encountered in multiply\n",
      "  loss = (-1/N) * np.sum(y_batch * np.log(a) + (1-y_batch) * np.log(1-a)) + (1/self.C) * np.sum(self.weights **2)\n",
      "<ipython-input-8-30422217b056>:49: RuntimeWarning: divide by zero encountered in log\n",
      "  loss = (-1/N) * np.sum(y_batch * np.log(a) + (1-y_batch) * np.log(1-a)) + (1/self.C) * np.sum(self.weights **2)\n",
      "<ipython-input-8-30422217b056>:49: RuntimeWarning: invalid value encountered in multiply\n",
      "  loss = (-1/N) * np.sum(y_batch * np.log(a) + (1-y_batch) * np.log(1-a)) + (1/self.C) * np.sum(self.weights **2)\n",
      "<ipython-input-8-30422217b056>:49: RuntimeWarning: divide by zero encountered in log\n",
      "  loss = (-1/N) * np.sum(y_batch * np.log(a) + (1-y_batch) * np.log(1-a)) + (1/self.C) * np.sum(self.weights **2)\n",
      "<ipython-input-8-30422217b056>:49: RuntimeWarning: divide by zero encountered in log\n",
      "  loss = (-1/N) * np.sum(y_batch * np.log(a) + (1-y_batch) * np.log(1-a)) + (1/self.C) * np.sum(self.weights **2)\n",
      "<ipython-input-8-30422217b056>:49: RuntimeWarning: invalid value encountered in multiply\n",
      "  loss = (-1/N) * np.sum(y_batch * np.log(a) + (1-y_batch) * np.log(1-a)) + (1/self.C) * np.sum(self.weights **2)\n"
     ]
    }
   ],
   "source": [
    "for alpha in [0.1, 0.05, 0.01, 0.005, 0.001, 0.0005, 0.0001 ]:\n",
    "    for max_epoch in range(1, 30, 5):\n",
    "        clf = MySGDClassifier(batch_generator,  C = best_c, alpha=alpha, max_epoch = max_epoch, model_type='log_reg', threshold = best_threshold,  batch_size = best_batch_size) \n",
    "        score = np.mean(cross_val_score(clf, X_train, y_train, scoring = 'f1'))\n",
    "        if score > best_score:\n",
    "            best_score = score\n",
    "            best_alpha = alpha\n",
    "            best_max_epoch = max_epoch"
   ]
  },
  {
   "cell_type": "markdown",
   "metadata": {
    "collapsed": true
   },
   "source": [
    "Подберите порог линейной модели, по достижении которого, Вы будете относить объект к классу 1. Вспомните, какую метрику мы оптимизируем в соревновании.  Как тогда правильно подобрать порог?"
   ]
  },
  {
   "cell_type": "code",
   "execution_count": 34,
   "metadata": {},
   "outputs": [
    {
     "name": "stderr",
     "output_type": "stream",
     "text": [
      "<ipython-input-8-30422217b056>:49: RuntimeWarning: divide by zero encountered in log\n",
      "  loss = (-1/N) * np.sum(y_batch * np.log(a) + (1-y_batch) * np.log(1-a)) + (1/self.C) * np.sum(self.weights **2)\n",
      "<ipython-input-8-30422217b056>:49: RuntimeWarning: invalid value encountered in multiply\n",
      "  loss = (-1/N) * np.sum(y_batch * np.log(a) + (1-y_batch) * np.log(1-a)) + (1/self.C) * np.sum(self.weights **2)\n"
     ]
    }
   ],
   "source": [
    "for threshold in np.arange(-0.5, 0.5, 0.05): \n",
    "    clf = MySGDClassifier(batch_generator,  C = best_c, alpha=best_alpha, max_epoch =best_max_epoch, model_type='log_reg', threshold = threshold,  batch_size = best_batch_size) \n",
    "    score = np.mean(cross_val_score(clf, X_train, y_train, scoring = 'f1'))\n",
    "    if score > best_score:\n",
    "        best_score = score\n",
    "        best_threshold = threshold"
   ]
  },
  {
   "cell_type": "code",
   "execution_count": 35,
   "metadata": {},
   "outputs": [
    {
     "name": "stdout",
     "output_type": "stream",
     "text": [
      "best_c= 4.600000000000003 best_alpha= 0.0301 best_max_epoch= 15 best_threshold= 0.44999999999999973 best_batch_size= 15\n",
      "0.2886889009633635\n"
     ]
    },
    {
     "data": {
      "text/plain": [
       "[<matplotlib.lines.Line2D at 0x1d02189e730>]"
      ]
     },
     "execution_count": 35,
     "metadata": {},
     "output_type": "execute_result"
    },
    {
     "data": {
      "image/png": "[encoded data removed]",
      "text/plain": [
       "<Figure size 864x360 with 1 Axes>"
      ]
     },
     "metadata": {},
     "output_type": "display_data"
    }
   ],
   "source": [
    "print('best_c=',best_c,'best_alpha=',best_alpha, 'best_max_epoch=', best_max_epoch, 'best_threshold=', best_threshold, 'best_batch_size=', best_batch_size)\n",
    "\n",
    "best_clf = MySGDClassifier(batch_generator,  C = best_c, alpha=best_alpha, max_epoch =best_max_epoch, model_type='log_reg', batch_size = best_batch_size, threshold = best_threshold)\n",
    "best_clf.fit(X_train, y_train)\n",
    "\n",
    "N=100\n",
    "loss = np.asarray(best_clf.errors_log['loss'])\n",
    "print(np.min(loss))\n",
    "plt.plot([loss[i:i+N].mean() for i in range(loss.shape[0] // N +1)])"
   ]
  },
  {
   "cell_type": "markdown",
   "metadata": {},
   "source": [
    "С лучшими параметрами на валидации сделайте предсказание на тестовом множестве, отправьте его на проверку на платформу kaggle. Убедитесь, что Вы смогли побить public score первого бейзлайна."
   ]
  },
  {
   "cell_type": "markdown",
   "metadata": {
    "collapsed": true
   },
   "source": [
    "** При сдаче домашки Вам необходимо кроме ссылки на ноутбук показать Ваш ник на kaggle, под которым Вы залили решение, которое побило Handmade baseline. **"
   ]
  },
  {
   "cell_type": "code",
   "execution_count": null,
   "metadata": {},
   "outputs": [],
   "source": [
    "[TeamUnknown]"
   ]
  },
  {
   "cell_type": "markdown",
   "metadata": {},
   "source": [
    "# Фидбек (бесценно)"
   ]
  },
  {
   "cell_type": "markdown",
   "metadata": {},
   "source": [
    "* Какие аспекты обучения линейных моделей Вам показались непонятными? Какое место стоит дополнительно объяснить?"
   ]
  },
  {
   "cell_type": "markdown",
   "metadata": {},
   "source": [
    "***Ваше ответ здесь***"
   ]
  },
  {
   "cell_type": "markdown",
   "metadata": {},
   "source": [
    "* Здесь Вы можете оставить отзыв о этой домашней работе или о всем курсе.   "
   ]
  },
  {
   "cell_type": "markdown",
   "metadata": {},
   "source": [
    "*** ВАШ ОТЗЫВ ЗДЕСЬ***"
   ]
  },
  {
   "cell_type": "code",
   "execution_count": null,
   "metadata": {},
   "outputs": [],
   "source": []
  },
  {
   "cell_type": "code",
   "execution_count": null,
   "metadata": {},
   "outputs": [],
   "source": []
  }
 ],
 "metadata": {
  "anaconda-cloud": {},
  "kernelspec": {
   "display_name": "Python 3",
   "language": "python",
   "name": "python3"
  },
  "language_info": {
   "codemirror_mode": {
    "name": "ipython",
    "version": 3
   },
   "file_extension": ".py",
   "mimetype": "text/x-python",
   "name": "python",
   "nbconvert_exporter": "python",
   "pygments_lexer": "ipython3",
   "version": "3.8.3"
  },
  "nav_menu": {},
  "toc": {
   "colors": {
    "hover_highlight": "#DAA520",
    "navigate_num": "#000000",
    "navigate_text": "#333333",
    "running_highlight": "#FF0000",
    "selected_highlight": "#FFD700",
    "sidebar_border": "#EEEEEE",
    "wrapper_background": "#FFFFFF"
   },
   "moveMenuLeft": true,
   "nav_menu": {
    "height": "402px",
    "width": "253px"
   },
   "navigate_menu": true,
   "number_sections": false,
   "sideBar": true,
   "threshold": 4,
   "toc_cell": false,
   "toc_section_display": "block",
   "toc_window_display": true,
   "widenNotebook": false
  }
 },
 "nbformat": 4,
 "nbformat_minor": 2
}
